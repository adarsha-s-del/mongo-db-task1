{
  "nbformat": 4,
  "nbformat_minor": 0,
  "metadata": {
    "colab": {
      "name": "mongoDB CRUD 1",
      "provenance": [],
      "collapsed_sections": []
    },
    "kernelspec": {
      "name": "python3",
      "display_name": "Python 3"
    },
    "language_info": {
      "name": "python"
    }
  },
  "cells": [
    {
      "cell_type": "code",
      "source": [
        "from pymongo import MongoClient\n",
        "import json\n",
        "\n",
        "client = MongoClient(\"mongodb+srv://<username>:<password>@cluster1.7k90p.mongodb.net/test\")"
      ],
      "metadata": {
        "id": "-GL6p5hFw6nU"
      },
      "execution_count": null,
      "outputs": []
    },
    {
      "cell_type": "code",
      "source": [
        "database_name=\"telephone_directory\"\n",
        "tele_db=client[database_name]\n",
        "collection_name=\"contacts\"\n",
        "collection=tele_db[collection_name]"
      ],
      "metadata": {
        "id": "hkEP6PKow-eX"
      },
      "execution_count": null,
      "outputs": []
    },
    {
      "cell_type": "code",
      "source": [
        "def get_document():\n",
        "    json_data=input(\"provide a document\")\n",
        "    document=json.loads(json_data)\n",
        "    return document"
      ],
      "metadata": {
        "id": "P-LjpZkJxCkR"
      },
      "execution_count": null,
      "outputs": []
    },
    {
      "cell_type": "code",
      "source": [
        "collection.insert_one(get_document())\n",
        "# example input: {\"Name\": \"adarsh\", \"Phone No\": 9902910019, \"Place\": \"Banglaore\"}\n"
      ],
      "metadata": {
        "id": "yzVChXqhxtua"
      },
      "execution_count": null,
      "outputs": []
    },
    {
      "cell_type": "code",
      "source": [
        "Query to find records\n",
        "print(collection.find_one(get_document()))\n",
        "# example input: {\"Name\": \"adarsh\"}"
      ],
      "metadata": {
        "id": "9dCAuT0jxwv-"
      },
      "execution_count": null,
      "outputs": []
    },
    {
      "cell_type": "code",
      "source": [
        "present_data=collection.find_one(get_document())\n",
        "new_data={\"$set\":get_document()}\n",
        "collection.update_one(present_data,new_data)"
      ],
      "metadata": {
        "id": "Izx5_tkzxOl9"
      },
      "execution_count": null,
      "outputs": []
    },
    {
      "cell_type": "code",
      "source": [
        "print(collection.delete_one(get_document()))\n",
        "# example input: {\"Name\": \"adarsh\"}"
      ],
      "metadata": {
        "id": "OcfqcD2cxW3J"
      },
      "execution_count": null,
      "outputs": []
    }
  ]
}